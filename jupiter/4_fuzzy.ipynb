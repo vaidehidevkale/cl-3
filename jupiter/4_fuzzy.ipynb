{
 "cells": [
  {
   "cell_type": "code",
   "execution_count": null,
   "id": "6ee27f93",
   "metadata": {},
   "outputs": [],
   "source": []
  },
  {
   "cell_type": "code",
   "execution_count": 1,
   "id": "0b1e6910",
   "metadata": {},
   "outputs": [
    {
     "name": "stdout",
     "output_type": "stream",
     "text": [
      "Fuzzy Set A: {'a': 0.2, 'b': 0.3, 'c': 0.6, 'd': 0.6}\n",
      "Fuzzy Set B: {'a': 0.9, 'b': 0.9, 'c': 0.4, 'd': 0.5}\n",
      "Union: {'c': 0.6, 'd': 0.6, 'b': 0.9, 'a': 0.9}\n",
      "Intersection: {'a': 0.2, 'c': 0.4, 'b': 0.3, 'd': 0.5}\n",
      "Complement of A: {'a': 0.8, 'b': 0.7, 'c': 0.4, 'd': 0.4}\n",
      "Difference (A - B): {'a': 0.09999999999999998, 'c': 0.6, 'b': 0.09999999999999998, 'd': 0.5}\n",
      "Cartesian Product of A and B: {('a', 'a'): 0.2, ('a', 'b'): 0.2, ('a', 'c'): 0.2, ('a', 'd'): 0.2, ('b', 'a'): 0.3, ('b', 'b'): 0.3, ('b', 'c'): 0.3, ('b', 'd'): 0.3, ('c', 'a'): 0.6, ('c', 'b'): 0.6, ('c', 'c'): 0.4, ('c', 'd'): 0.5, ('d', 'a'): 0.6, ('d', 'b'): 0.6, ('d', 'c'): 0.4, ('d', 'd'): 0.5}\n",
      "Max-Min Composition: {('a', 'a'): 0.2, ('a', 'b'): 0.2, ('a', 'c'): 0.2, ('a', 'd'): 0.2, ('b', 'a'): 0.2, ('b', 'b'): 0.3, ('b', 'c'): 0.3, ('b', 'd'): 0.3, ('c', 'a'): 0.2, ('c', 'b'): 0.3, ('c', 'c'): 0.6, ('c', 'd'): 0.6, ('d', 'a'): 0.2, ('d', 'b'): 0.3, ('d', 'c'): 0.6, ('d', 'd'): 0.6}\n"
     ]
    }
   ],
   "source": [
    "# Define fuzzy set operations\n",
    "\n",
    "def fuzzy_union(A, B):\n",
    "    return {key: max(A.get(key, 0), B.get(key, 0)) for key in set(A) | set(B)}\n",
    "\n",
    "def fuzzy_intersection(A, B):\n",
    "    return {key: min(A.get(key, 0), B.get(key, 0)) for key in set(A) & set(B)}\n",
    "\n",
    "def fuzzy_complement(A):\n",
    "    return {key: 1 - value for key, value in A.items()}\n",
    "\n",
    "def fuzzy_difference(A, B):\n",
    "    return {key: min(A.get(key, 0), 1 - B.get(key, 0)) for key in set(A)}\n",
    "\n",
    "def cartesian_product(A, B):\n",
    "    return {(keyA, keyB): min(valueA, valueB) for keyA, valueA in A.items() for keyB, valueB in B.items()}\n",
    "\n",
    "def max_min_composition(R1, R2):\n",
    "    composition = {}\n",
    "    for (a, b1), val1 in R1.items():\n",
    "        for (b2, c), val2 in R2.items():\n",
    "            if b1 == b2:\n",
    "                if (a, c) in composition:\n",
    "                    composition[(a, c)] = max(composition[(a, c)], min(val1, val2))\n",
    "                else:\n",
    "                    composition[(a, c)] = min(val1, val2)\n",
    "    return composition\n",
    "\n",
    "# Example fuzzy sets\n",
    "A = {\"a\": 0.2, \"b\": 0.3, \"c\": 0.6, \"d\": 0.6}\n",
    "B = {\"a\": 0.9, \"b\": 0.9, \"c\": 0.4, \"d\": 0.5}\n",
    "\n",
    "# Perform operations\n",
    "print(\"Fuzzy Set A:\", A)\n",
    "print(\"Fuzzy Set B:\", B)\n",
    "\n",
    "print(\"Union:\", fuzzy_union(A, B))\n",
    "print(\"Intersection:\", fuzzy_intersection(A, B))\n",
    "print(\"Complement of A:\", fuzzy_complement(A))\n",
    "print(\"Difference (A - B):\", fuzzy_difference(A, B))\n",
    "\n",
    "# Cartesian product\n",
    "R1 = cartesian_product(A, B)\n",
    "R2 = cartesian_product(B, A)\n",
    "\n",
    "print(\"Cartesian Product of A and B:\", R1)\n",
    "\n",
    "# Max-min composition\n",
    "composition_result = max_min_composition(R1, R2)\n",
    "print(\"Max-Min Composition:\", composition_result)\n"
   ]
  }
 ],
 "metadata": {
  "kernelspec": {
   "display_name": "Python 3 (ipykernel)",
   "language": "python",
   "name": "python3"
  },
  "language_info": {
   "codemirror_mode": {
    "name": "ipython",
    "version": 3
   },
   "file_extension": ".py",
   "mimetype": "text/x-python",
   "name": "python",
   "nbconvert_exporter": "python",
   "pygments_lexer": "ipython3",
   "version": "3.12.4"
  }
 },
 "nbformat": 4,
 "nbformat_minor": 5
}
