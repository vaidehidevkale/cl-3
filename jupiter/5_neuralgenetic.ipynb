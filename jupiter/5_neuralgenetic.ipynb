{
 "cells": [
  {
   "cell_type": "code",
   "execution_count": null,
   "id": "9cb3d609",
   "metadata": {},
   "outputs": [],
   "source": []
  },
  {
   "cell_type": "code",
   "execution_count": 1,
   "id": "30d0c8e2",
   "metadata": {},
   "outputs": [
    {
     "name": "stdout",
     "output_type": "stream",
     "text": [
      "Best Parameters: [91.10692625951768, 0.8730266291056911, 0.030451214986287584]\n"
     ]
    }
   ],
   "source": [
    "import numpy as np\n",
    "import random\n",
    "\n",
    "from deap import base, creator, tools, algorithms\n",
    "from sklearn.neural_network import MLPRegressor\n",
    "from sklearn.model_selection import train_test_split\n",
    "from sklearn.metrics import mean_squared_error\n",
    "\n",
    "# Sample synthetic dataset\n",
    "np.random.seed(42)\n",
    "X = np.random.rand(100, 5)  # Features\n",
    "y = np.random.rand(100)     # Target\n",
    "\n",
    "# Split data into training and testing sets\n",
    "X_train, X_test, y_train, y_test = train_test_split(X, y, test_size=0.2, random_state=42)\n",
    "\n",
    "# Define the evaluation function\n",
    "def evaluate(individual):\n",
    "    population_size, crossover_rate, mutation_rate = individual\n",
    "\n",
    "    # Ensure valid parameter values\n",
    "    population_size = int(population_size)\n",
    "    crossover_rate = max(0.6, min(0.9, crossover_rate))\n",
    "    mutation_rate = max(0.01, min(0.1, mutation_rate))\n",
    "\n",
    "    # Define and train the neural network model\n",
    "    nn_model = MLPRegressor(hidden_layer_sizes=(100, 50), activation=\"relu\", solver=\"adam\", random_state=42)\n",
    "    nn_model.fit(X_train, y_train)\n",
    "\n",
    "    # Evaluate the model\n",
    "    y_pred = nn_model.predict(X_test)\n",
    "    mse = mean_squared_error(y_test, y_pred)\n",
    "    return (mse,)\n",
    "\n",
    "# Define genetic algorithm setup\n",
    "creator.create(\"FitnessMin\", base.Fitness, weights=(-1.0,))  # Minimize MSE\n",
    "creator.create(\"Individual\", list, fitness=creator.FitnessMin)\n",
    "\n",
    "# Define the genetic algorithm toolbox\n",
    "toolbox = base.Toolbox()\n",
    "\n",
    "toolbox.register(\"attr_pop_size\", random.randint, 50, 100)\n",
    "toolbox.register(\"attr_crossover\", random.uniform, 0.6, 0.9)\n",
    "toolbox.register(\"attr_mutation\", random.uniform, 0.01, 0.1)\n",
    "\n",
    "toolbox.register(\"individual\", tools.initCycle, creator.Individual,\n",
    "                 (toolbox.attr_pop_size, toolbox.attr_crossover, toolbox.attr_mutation), n=1)\n",
    "toolbox.register(\"population\", tools.initRepeat, list, toolbox.individual)\n",
    "\n",
    "toolbox.register(\"mate\", tools.cxBlend, alpha=0.5)\n",
    "toolbox.register(\"mutate\", tools.mutPolynomialBounded,\n",
    "                 low=[50, 0.6, 0.01], up=[100, 0.9, 0.1], eta=1.0, indpb=0.2)\n",
    "toolbox.register(\"select\", tools.selTournament, tournsize=3)\n",
    "toolbox.register(\"evaluate\", evaluate)\n",
    "\n",
    "# Run the genetic algorithm\n",
    "population = toolbox.population(n=10)\n",
    "NGEN = 20\n",
    "CXPB, MUTPB = 0.7, 0.2\n",
    "\n",
    "for gen in range(NGEN):\n",
    "    offspring = algorithms.varAnd(population, toolbox, cxpb=CXPB, mutpb=MUTPB)\n",
    "    fits = map(toolbox.evaluate, offspring)\n",
    "\n",
    "    for ind, fit in zip(offspring, fits):\n",
    "        ind.fitness.values = fit\n",
    "\n",
    "    population = toolbox.select(offspring, k=len(population))\n",
    "\n",
    "# Get the best parameters\n",
    "best_ind = tools.selBest(population, k=1)[0]\n",
    "print(\"Best Parameters:\", best_ind)\n"
   ]
  },
  {
   "cell_type": "code",
   "execution_count": null,
   "id": "bb153187",
   "metadata": {},
   "outputs": [],
   "source": []
  }
 ],
 "metadata": {
  "kernelspec": {
   "display_name": "Python 3 (ipykernel)",
   "language": "python",
   "name": "python3"
  },
  "language_info": {
   "codemirror_mode": {
    "name": "ipython",
    "version": 3
   },
   "file_extension": ".py",
   "mimetype": "text/x-python",
   "name": "python",
   "nbconvert_exporter": "python",
   "pygments_lexer": "ipython3",
   "version": "3.12.4"
  }
 },
 "nbformat": 4,
 "nbformat_minor": 5
}
