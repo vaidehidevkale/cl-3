{
 "cells": [
  {
   "cell_type": "code",
   "execution_count": null,
   "id": "ef301a98",
   "metadata": {},
   "outputs": [],
   "source": []
  },
  {
   "cell_type": "code",
   "execution_count": 1,
   "id": "e68006e7",
   "metadata": {},
   "outputs": [
    {
     "name": "stdout",
     "output_type": "stream",
     "text": [
      "Best Solution: [-0.0001242   0.00165232]\n",
      "Best Fitness: 2.7456018736965744e-06\n"
     ]
    }
   ],
   "source": [
    "import numpy as np\n",
    "\n",
    "def initialize_population(population_size, dimensions, bounds):\n",
    "    return np.random.uniform(bounds[0], bounds[1], (population_size, dimensions))\n",
    "\n",
    "def calculate_affinity(antibodies, objective_function):\n",
    "    return np.array([objective_function(ab) for ab in antibodies])\n",
    "\n",
    "def select_antibodies_for_cloning(antibodies, affinities, num_selected):\n",
    "    sorted_indices = np.argsort(affinities)  # Minimization problem\n",
    "    return antibodies[sorted_indices[:num_selected]]\n",
    "\n",
    "def clone_antibodies(selected_antibodies, clone_factor):\n",
    "    return np.repeat(selected_antibodies, clone_factor, axis=0)\n",
    "\n",
    "def mutate_antibodies(antibodies, mutation_rate, bounds):\n",
    "    mutations = np.random.uniform(-mutation_rate, mutation_rate, antibodies.shape)\n",
    "    mutated = antibodies + mutations\n",
    "    return np.clip(mutated, bounds[0], bounds[1])  # Ensure within bounds\n",
    "\n",
    "def select_next_generation(antibodies, affinities, num_survivors):\n",
    "    sorted_indices = np.argsort(affinities)\n",
    "    return antibodies[sorted_indices[:num_survivors]]\n",
    "\n",
    "def clonal_selection_algorithm(objective_function, population_size=20, dimensions=2, bounds=(-5, 5),\n",
    "                               mutation_rate=0.1, clone_factor=3, num_selected=5, num_survivors=10,\n",
    "                               num_iterations=100):\n",
    "    antibodies = initialize_population(population_size, dimensions, bounds)\n",
    "\n",
    "    for _ in range(num_iterations):\n",
    "        affinities = calculate_affinity(antibodies, objective_function)\n",
    "        selected_antibodies = select_antibodies_for_cloning(antibodies, affinities, num_selected)\n",
    "        cloned_antibodies = clone_antibodies(selected_antibodies, clone_factor)\n",
    "        mutated_antibodies = mutate_antibodies(cloned_antibodies, mutation_rate, bounds)\n",
    "        \n",
    "        combined_population = np.vstack((antibodies, mutated_antibodies))\n",
    "        combined_affinities = calculate_affinity(combined_population, objective_function)\n",
    "        \n",
    "        antibodies = select_next_generation(combined_population, combined_affinities, num_survivors)\n",
    "\n",
    "    best_solution = antibodies[0]\n",
    "    best_fitness = objective_function(best_solution)\n",
    "    return best_solution, best_fitness\n",
    "\n",
    "# Sphere function: f(x) = sum(x_i^2)\n",
    "def sphere_function(x):\n",
    "    return np.sum(x**2)\n",
    "\n",
    "# Run algorithm\n",
    "best_solution, best_fitness = clonal_selection_algorithm(sphere_function)\n",
    "\n",
    "print(\"Best Solution:\", best_solution)\n",
    "print(\"Best Fitness:\", best_fitness)\n"
   ]
  }
 ],
 "metadata": {
  "kernelspec": {
   "display_name": "Python 3 (ipykernel)",
   "language": "python",
   "name": "python3"
  },
  "language_info": {
   "codemirror_mode": {
    "name": "ipython",
    "version": 3
   },
   "file_extension": ".py",
   "mimetype": "text/x-python",
   "name": "python",
   "nbconvert_exporter": "python",
   "pygments_lexer": "ipython3",
   "version": "3.12.4"
  }
 },
 "nbformat": 4,
 "nbformat_minor": 5
}
