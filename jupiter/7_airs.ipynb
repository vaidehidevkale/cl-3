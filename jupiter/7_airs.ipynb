{
 "cells": [
  {
   "cell_type": "code",
   "execution_count": 1,
   "id": "5f90e31e-b278-434d-ac26-d6ceade46198",
   "metadata": {},
   "outputs": [],
   "source": [
    "import numpy as np\n",
    "from sklearn.model_selection import train_test_split\n",
    "from sklearn.metrics import accuracy_score, confusion_matrix, classification_report\n",
    "from collections import Counter"
   ]
  },
  {
   "cell_type": "code",
   "execution_count": 2,
   "id": "90acc20d-98d8-49d7-ab78-13ec7d42ac70",
   "metadata": {},
   "outputs": [],
   "source": [
    "# Generate dummy data for demonstration purposes \n",
    "def generate_dummy_data(samples=200, features=10):\n",
    "    np.random.seed(42)\n",
    "    data = np.random.rand(samples, features)\n",
    "    labels = np.random.randint(0, 2, size=samples)  # Binary classification (0: Healthy, 1: Damaged)\n",
    "    return data, labels"
   ]
  },
  {
   "cell_type": "code",
   "execution_count": 3,
   "id": "716bf207-db53-4e25-94c4-81c90b3f05c0",
   "metadata": {},
   "outputs": [],
   "source": [
    "# Define the AIRS algorithm\n",
    "class AIRS:\n",
    "    def __init__(self, num_detectors=10, hypermutation_rate=0.1):\n",
    "        self.num_detectors = num_detectors\n",
    "        self.hypermutation_rate = hypermutation_rate\n",
    "        self.detectors = []\n",
    "\n",
    "    def train(self, X, y):\n",
    "        # Select positive samples (damaged structures) for better detector performance\n",
    "        damaged_samples = X[y == 1]\n",
    "        self.detectors = damaged_samples[np.random.choice(len(damaged_samples), self.num_detectors, replace=False)]\n",
    "\n",
    "    def predict(self, X):\n",
    "        predictions = []\n",
    "        for sample in X:\n",
    "            distances = np.linalg.norm(self.detectors - sample, axis=1)\n",
    "            # Predict as '1' (damaged) if any detector is sufficiently close\n",
    "            prediction = 1 if np.min(distances) < 0.3 else 0  \n",
    "            predictions.append(prediction)\n",
    "        return np.array(predictions)"
   ]
  },
  {
   "cell_type": "code",
   "execution_count": 4,
   "id": "1a077f9b-6a2b-4f41-a019-819ba2e97ba2",
   "metadata": {},
   "outputs": [],
   "source": [
    "# Generate dummy data\n",
    "data, labels = generate_dummy_data()\n",
    "\n",
    "# Split data into training and testing sets\n",
    "train_data, test_data, train_labels, test_labels = train_test_split(\n",
    "    data, labels, test_size=0.2, random_state=42\n",
    ")\n",
    "\n",
    "# Initialize and train AIRS\n",
    "airs = AIRS(num_detectors=50, hypermutation_rate=0.2)\n",
    "airs.train(train_data, train_labels)\n",
    "\n",
    "# Test AIRS on the test set\n",
    "predictions = airs.predict(test_data)"
   ]
  },
  {
   "cell_type": "code",
   "execution_count": 5,
   "id": "c3bb3a44-f85e-4271-9b28-d835b8a904bc",
   "metadata": {},
   "outputs": [
    {
     "name": "stdout",
     "output_type": "stream",
     "text": [
      "Accuracy: 0.50\n"
     ]
    }
   ],
   "source": [
    "# Evaluate performance\n",
    "accuracy = accuracy_score(test_labels, predictions)\n",
    "print(f\"Accuracy: {accuracy:.2f}\")\n"
   ]
  },
  {
   "cell_type": "code",
   "execution_count": 6,
   "id": "047288b9-7f11-4795-94a0-0e9742c644c0",
   "metadata": {},
   "outputs": [
    {
     "name": "stdout",
     "output_type": "stream",
     "text": [
      "\n",
      "Confusion Matrix:\n",
      " [[20  0]\n",
      " [20  0]]\n"
     ]
    }
   ],
   "source": [
    "print(\"\\nConfusion Matrix:\\n\", confusion_matrix(test_labels, predictions))\n"
   ]
  },
  {
   "cell_type": "code",
   "execution_count": 7,
   "id": "cd8088e7-b9e4-4820-af5f-f38b5e472ad3",
   "metadata": {},
   "outputs": [
    {
     "name": "stdout",
     "output_type": "stream",
     "text": [
      "              precision    recall  f1-score   support\n",
      "\n",
      "           0       0.50      1.00      0.67        20\n",
      "           1       1.00      0.00      0.00        20\n",
      "\n",
      "    accuracy                           0.50        40\n",
      "   macro avg       0.75      0.50      0.33        40\n",
      "weighted avg       0.75      0.50      0.33        40\n",
      "\n"
     ]
    }
   ],
   "source": [
    "print(classification_report(test_labels, predictions, zero_division=1))\n"
   ]
  },
  {
   "cell_type": "code",
   "execution_count": 8,
   "id": "dcd5f405-0ead-4c46-8d3f-d1533586e074",
   "metadata": {},
   "outputs": [
    {
     "name": "stdout",
     "output_type": "stream",
     "text": [
      "Training label distribution: Counter({1: 85, 0: 75})\n"
     ]
    }
   ],
   "source": [
    "print(\"Training label distribution:\", Counter(train_labels))\n"
   ]
  },
  {
   "cell_type": "code",
   "execution_count": 9,
   "id": "dfbecce4-309f-4eec-8ae7-6f3753c48616",
   "metadata": {},
   "outputs": [
    {
     "name": "stdout",
     "output_type": "stream",
     "text": [
      "Test label distribution: Counter({0: 20, 1: 20})\n"
     ]
    }
   ],
   "source": [
    "print(\"Test label distribution:\", Counter(test_labels))"
   ]
  },
  {
   "cell_type": "code",
   "execution_count": null,
   "id": "ecc27a14",
   "metadata": {},
   "outputs": [],
   "source": []
  },
  {
   "cell_type": "code",
   "execution_count": null,
   "id": "81624205",
   "metadata": {},
   "outputs": [],
   "source": []
  }
 ],
 "metadata": {
  "kernelspec": {
   "display_name": "Python 3 (ipykernel)",
   "language": "python",
   "name": "python3"
  },
  "language_info": {
   "codemirror_mode": {
    "name": "ipython",
    "version": 3
   },
   "file_extension": ".py",
   "mimetype": "text/x-python",
   "name": "python",
   "nbconvert_exporter": "python",
   "pygments_lexer": "ipython3",
   "version": "3.12.4"
  }
 },
 "nbformat": 4,
 "nbformat_minor": 5
}
