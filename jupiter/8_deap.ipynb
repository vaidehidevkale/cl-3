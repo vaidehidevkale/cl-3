{
 "cells": [
  {
   "cell_type": "code",
   "execution_count": 5,
   "metadata": {},
   "outputs": [
    {
     "name": "stdout",
     "output_type": "stream",
     "text": [
      "Collecting deap\n",
      "  Downloading deap-1.4.2-cp312-cp312-win_amd64.whl.metadata (13 kB)\n",
      "Requirement already satisfied: numpy in c:\\users\\amruta\\anaconda3\\lib\\site-packages (from deap) (1.26.4)\n",
      "Downloading deap-1.4.2-cp312-cp312-win_amd64.whl (109 kB)\n",
      "   ---------------------------------------- 0.0/109.9 kB ? eta -:--:--\n",
      "   ------------------------------------- -- 102.4/109.9 kB 2.9 MB/s eta 0:00:01\n",
      "   ---------------------------------------- 109.9/109.9 kB 2.1 MB/s eta 0:00:00\n",
      "Installing collected packages: deap\n",
      "Successfully installed deap-1.4.2\n",
      "Note: you may need to restart the kernel to use updated packages.\n"
     ]
    }
   ],
   "source": [
    "pip install deap"
   ]
  },
  {
   "cell_type": "code",
   "execution_count": 7,
   "metadata": {
    "id": "Pkej9WGJDrN2"
   },
   "outputs": [],
   "source": [
    "import random\n",
    "from deap import base, creator, tools, algorithms"
   ]
  },
  {
   "cell_type": "code",
   "execution_count": 9,
   "metadata": {
    "id": "tkwvqg1SD3mh"
   },
   "outputs": [],
   "source": [
    "# Define the evaluation function (minimize a simple mathematical function)\n",
    "def eval_func(individual):\n",
    "    # Example evaluation function (minimize a quadratic function)\n",
    "    return sum(x ** 2 for x in individual),"
   ]
  },
  {
   "cell_type": "code",
   "execution_count": 11,
   "metadata": {
    "id": "s1CFNOqND4iT"
   },
   "outputs": [],
   "source": [
    "# DEAP setup\n",
    "creator.create(\"FitnessMin\", base.Fitness, weights=(-1.0,))\n",
    "creator.create(\"Individual\", list, fitness=creator.FitnessMin)"
   ]
  },
  {
   "cell_type": "code",
   "execution_count": 13,
   "metadata": {
    "id": "7VijQA64D5l4"
   },
   "outputs": [],
   "source": [
    "toolbox = base.Toolbox()"
   ]
  },
  {
   "cell_type": "code",
   "execution_count": 15,
   "metadata": {
    "id": "ACzw73RsD7kO"
   },
   "outputs": [],
   "source": [
    "# Define attributes and individuals\n",
    "toolbox.register(\"attr_float\", random.uniform, -5.0, 5.0)  # Example: Float values between -5 and 5\n",
    "toolbox.register(\"individual\", tools.initRepeat, creator.Individual, toolbox.attr_float, n=3)  # Example: 3-dimensional individual\n",
    "toolbox.register(\"population\", tools.initRepeat, list, toolbox.individual)"
   ]
  },
  {
   "cell_type": "code",
   "execution_count": 17,
   "metadata": {
    "id": "pqvo4s7sD8hL"
   },
   "outputs": [],
   "source": [
    "# Evaluation function and genetic operators\n",
    "toolbox.register(\"evaluate\", eval_func)\n",
    "toolbox.register(\"mate\", tools.cxBlend, alpha=0.5)\n",
    "toolbox.register(\"mutate\", tools.mutGaussian, mu=0, sigma=1, indpb=0.2)\n",
    "toolbox.register(\"select\", tools.selTournament, tournsize=3)"
   ]
  },
  {
   "cell_type": "code",
   "execution_count": 19,
   "metadata": {
    "id": "XTP1HmGBD9-8"
   },
   "outputs": [],
   "source": [
    "# Create population\n",
    "population = toolbox.population(n=50)"
   ]
  },
  {
   "cell_type": "code",
   "execution_count": 21,
   "metadata": {
    "id": "RsPvOWNGD-_f"
   },
   "outputs": [],
   "source": [
    "# Genetic Algorithm parameters\n",
    "generations = 20"
   ]
  },
  {
   "cell_type": "code",
   "execution_count": 23,
   "metadata": {
    "id": "_MmwBUszEBKa"
   },
   "outputs": [],
   "source": [
    "# Run the algorithm\n",
    "for gen in range(generations):\n",
    "    offspring = algorithms.varAnd(population, toolbox, cxpb=0.5, mutpb=0.1)\n",
    "\n",
    "    fits = toolbox.map(toolbox.evaluate, offspring)\n",
    "    for fit, ind in zip(fits, offspring):\n",
    "        ind.fitness.values = fit\n",
    "\n",
    "    population = toolbox.select(offspring, k=len(population))"
   ]
  },
  {
   "cell_type": "code",
   "execution_count": 25,
   "metadata": {
    "colab": {
     "base_uri": "https://localhost:8080/",
     "height": 0
    },
    "id": "yvvu1r6KKXv7",
    "outputId": "be24fd82-f001-4cf6-821c-8dfd6fc97aba"
   },
   "outputs": [
    {
     "name": "stdout",
     "output_type": "stream",
     "text": [
      "Best individual: [0.003045496333415381, -0.0014750875550572076, -0.001789720647309274]\n",
      "Best fitness: 1.4654031207336309e-05\n"
     ]
    }
   ],
   "source": [
    "# Get the best individual after generations\n",
    "best_ind = tools.selBest(population, k=1)[0]\n",
    "best_fitness = best_ind.fitness.values[0]\n",
    "\n",
    "print(\"Best individual:\", best_ind)\n",
    "print(\"Best fitness:\", best_fitness)"
   ]
  },
  {
   "cell_type": "code",
   "execution_count": null,
   "metadata": {},
   "outputs": [],
   "source": []
  }
 ],
 "metadata": {
  "colab": {
   "provenance": []
  },
  "kernelspec": {
   "display_name": "Python 3 (ipykernel)",
   "language": "python",
   "name": "python3"
  },
  "language_info": {
   "codemirror_mode": {
    "name": "ipython",
    "version": 3
   },
   "file_extension": ".py",
   "mimetype": "text/x-python",
   "name": "python",
   "nbconvert_exporter": "python",
   "pygments_lexer": "ipython3",
   "version": "3.12.4"
  }
 },
 "nbformat": 4,
 "nbformat_minor": 4
}
